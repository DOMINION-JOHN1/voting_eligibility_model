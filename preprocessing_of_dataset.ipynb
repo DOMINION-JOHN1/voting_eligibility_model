{
  "cells": [
    {
      "cell_type": "markdown",
      "metadata": {
        "id": "view-in-github",
        "colab_type": "text"
      },
      "source": [
        "<a href=\"https://colab.research.google.com/github/DOMINION-JOHN1/voting_eligibility_model/blob/main/preprocessing_of_dataset.ipynb\" target=\"_parent\"><img src=\"https://colab.research.google.com/assets/colab-badge.svg\" alt=\"Open In Colab\"/></a>"
      ]
    },
    {
      "cell_type": "code",
      "execution_count": null,
      "metadata": {
        "id": "f-XefbczQp_9"
      },
      "outputs": [],
      "source": [
        "import pandas as pd\n",
        "import numpy as np"
      ]
    },
    {
      "cell_type": "code",
      "execution_count": null,
      "metadata": {
        "colab": {
          "base_uri": "https://localhost:8080/"
        },
        "id": "2q4v5AVpRUSL",
        "outputId": "5288654b-d054-44b0-9fd8-f75370e0e8e7"
      },
      "outputs": [
        {
          "output_type": "stream",
          "name": "stdout",
          "text": [
            "Mounted at /content/drive\n"
          ]
        }
      ],
      "source": [
        "from google.colab import drive\n",
        "drive.mount('/content/drive',force_remount=True)"
      ]
    },
    {
      "cell_type": "code",
      "execution_count": null,
      "metadata": {
        "id": "EzbPQfGfQvY7"
      },
      "outputs": [],
      "source": [
        "# Define the file path of the np.array document\n",
        "file_path = '/content/drive/My Drive/.npy'\n",
        "\n",
        "# Load the np.array document using np.load()\n",
        "loaded_array = np.load(file_path)"
      ]
    },
    {
      "cell_type": "code",
      "execution_count": null,
      "metadata": {
        "id": "6YxE7Izmmu3m"
      },
      "outputs": [],
      "source": [
        "import tensorflow as tf\n",
        "\n",
        "x=loaded_array\n"
      ]
    },
    {
      "cell_type": "code",
      "execution_count": null,
      "metadata": {
        "id": "dMd-kgh3Q5dJ"
      },
      "outputs": [],
      "source": [
        "eligibility=pd.read_csv('/content/drive/My Drive/eligibility.csv')"
      ]
    },
    {
      "cell_type": "code",
      "execution_count": null,
      "metadata": {
        "id": "O2240padnqtW"
      },
      "outputs": [],
      "source": [
        "\n",
        "eligibility['eligibility']=eligibility['eligibility'].replace('55', 'Eligible')\n",
        "eligibility['eligibility']=eligibility['eligibility'].replace('35', 'Eligible')\n",
        "eligibility['eligibility'] = eligibility['eligibility'].replace({'Eligible': 1, 'Not Eligible': 0})\n",
        "target_label = np.array(eligibility['eligibility'])\n",
        "target_label.astype('float32')\n",
        "target_label.shape\n",
        "y=target_label"
      ]
    },
    {
      "cell_type": "code",
      "source": [
        "from sklearn.model_selection import train_test_split\n",
        "X_train, X_test, y_train, y_test = train_test_split(x, y, test_size=0.2, random_state=42)\n",
        "\n",
        "# Print the sizes of the train and test sets\n",
        "print(\"Training data size:\", len(X_train))\n",
        "print(\"Testing data size:\", len(X_test))"
      ],
      "metadata": {
        "colab": {
          "base_uri": "https://localhost:8080/"
        },
        "id": "PXzD5wVGdPtE",
        "outputId": "3649d3d3-950b-45c3-d199-d9e438d4198c"
      },
      "execution_count": null,
      "outputs": [
        {
          "output_type": "stream",
          "name": "stdout",
          "text": [
            "Training data size: 10850\n",
            "Testing data size: 2713\n"
          ]
        }
      ]
    },
    {
      "cell_type": "code",
      "source": [
        "from tensorflow.keras.models import Sequential\n",
        "from tensorflow.keras.layers import Conv2D, Activation, MaxPool2D, Dropout, Flatten, Dense\n",
        "\n",
        "model = Sequential()\n",
        "\n",
        "model.add(Conv2D(32, kernel_size=(3, 3), input_shape=(128, 128, 3)))\n",
        "model.add(Activation(\"relu\"))\n",
        "model.add(MaxPool2D(pool_size=(2, 2)))\n",
        "\n",
        "model.add(Conv2D(64, kernel_size=(3, 3)))\n",
        "model.add(Activation(\"relu\"))\n",
        "model.add(Conv2D(64, kernel_size=(3, 3)))\n",
        "model.add(Activation(\"relu\"))\n",
        "model.add(MaxPool2D(pool_size=(2, 2)))\n",
        "\n",
        "model.add(Flatten())\n",
        "model.add(Dense(128, activation=\"relu\"))\n",
        "model.add(Dropout(0.5))\n",
        "model.add(Dense(1, activation=\"sigmoid\"))\n",
        "\n",
        "model.compile(loss=\"binary_crossentropy\", optimizer=\"adam\", metrics=[\"accuracy\"])\n",
        "\n",
        "model.summary()\n"
      ],
      "metadata": {
        "colab": {
          "base_uri": "https://localhost:8080/"
        },
        "id": "l-GJ4hHHdQls",
        "outputId": "7f35c16f-6029-401d-856c-516a8add21ef"
      },
      "execution_count": null,
      "outputs": [
        {
          "output_type": "stream",
          "name": "stdout",
          "text": [
            "Model: \"sequential_1\"\n",
            "_________________________________________________________________\n",
            " Layer (type)                Output Shape              Param #   \n",
            "=================================================================\n",
            " conv2d_3 (Conv2D)           (None, 126, 126, 32)      896       \n",
            "                                                                 \n",
            " activation_3 (Activation)   (None, 126, 126, 32)      0         \n",
            "                                                                 \n",
            " max_pooling2d_2 (MaxPoolin  (None, 63, 63, 32)        0         \n",
            " g2D)                                                            \n",
            "                                                                 \n",
            " conv2d_4 (Conv2D)           (None, 61, 61, 64)        18496     \n",
            "                                                                 \n",
            " activation_4 (Activation)   (None, 61, 61, 64)        0         \n",
            "                                                                 \n",
            " conv2d_5 (Conv2D)           (None, 59, 59, 64)        36928     \n",
            "                                                                 \n",
            " activation_5 (Activation)   (None, 59, 59, 64)        0         \n",
            "                                                                 \n",
            " max_pooling2d_3 (MaxPoolin  (None, 29, 29, 64)        0         \n",
            " g2D)                                                            \n",
            "                                                                 \n",
            " flatten_1 (Flatten)         (None, 53824)             0         \n",
            "                                                                 \n",
            " dense_2 (Dense)             (None, 128)               6889600   \n",
            "                                                                 \n",
            " dropout_1 (Dropout)         (None, 128)               0         \n",
            "                                                                 \n",
            " dense_3 (Dense)             (None, 1)                 129       \n",
            "                                                                 \n",
            "=================================================================\n",
            "Total params: 6946049 (26.50 MB)\n",
            "Trainable params: 6946049 (26.50 MB)\n",
            "Non-trainable params: 0 (0.00 Byte)\n",
            "_________________________________________________________________\n",
            "Model: \"sequential_2\"\n",
            "_________________________________________________________________\n",
            " Layer (type)                Output Shape              Param #   \n"
          ]
        }
      ]
    },
    {
      "cell_type": "code",
      "source": [
        "from keras.callbacks import ModelCheckpoint, EarlyStopping, ReduceLROnPlateau\n",
        "from keras.preprocessing.image import ImageDataGenerator\n",
        "\n",
        "# Define the file path for saving the best model\n",
        "checkpoint_filepath = '/content/drive/My Drive/best_model.h5'\n",
        "\n",
        "# Create callbacks\n",
        "checkpointer = ModelCheckpoint(filepath=checkpoint_filepath, verbose=1, save_best_only=True)\n",
        "early_stopping = EarlyStopping(monitor='val_loss', patience=10, restore_best_weights=True)\n",
        "reduce_lr = ReduceLROnPlateau(monitor='val_loss', factor=0.75, patience=5, min_lr=1e-6)\n",
        "\n",
        "epochs = 100\n",
        "batch_size = 15\n",
        "\n",
        "\n",
        "# Fit the model with callbacks\n",
        "hist = model.fit(X_train, y_train, batch_size=batch_size,\n",
        "    epochs=epochs,\n",
        "    validation_data=(X_test, y_test),\n",
        "    callbacks=[checkpointer, early_stopping, reduce_lr],\n",
        "    verbose=2\n",
        ")\n"
      ],
      "metadata": {
        "colab": {
          "base_uri": "https://localhost:8080/"
        },
        "id": "JQEbb7JWdUJ1",
        "outputId": "5ca49dd3-afab-4c73-8caa-6e551b1edd08"
      },
      "execution_count": null,
      "outputs": [
        {
          "output_type": "stream",
          "name": "stdout",
          "text": [
            "Epoch 1/100\n",
            "\n",
            "Epoch 1: val_loss improved from inf to 0.57390, saving model to /content/drive/My Drive/best_model.h5\n"
          ]
        },
        {
          "output_type": "stream",
          "name": "stderr",
          "text": [
            "/usr/local/lib/python3.10/dist-packages/keras/src/engine/training.py:3000: UserWarning: You are saving your model as an HDF5 file via `model.save()`. This file format is considered legacy. We recommend using instead the native Keras format, e.g. `model.save('my_model.keras')`.\n",
            "  saving_api.save_model(\n"
          ]
        },
        {
          "output_type": "stream",
          "name": "stdout",
          "text": [
            "724/724 - 26s - loss: 0.5956 - accuracy: 0.7358 - val_loss: 0.5739 - val_accuracy: 0.7346 - lr: 0.0010 - 26s/epoch - 36ms/step\n",
            "Epoch 2/100\n",
            "\n",
            "Epoch 2: val_loss improved from 0.57390 to 0.57209, saving model to /content/drive/My Drive/best_model.h5\n",
            "724/724 - 10s - loss: 0.5818 - accuracy: 0.7359 - val_loss: 0.5721 - val_accuracy: 0.7346 - lr: 0.0010 - 10s/epoch - 13ms/step\n",
            "Epoch 3/100\n",
            "\n",
            "Epoch 3: val_loss did not improve from 0.57209\n",
            "724/724 - 9s - loss: 0.5749 - accuracy: 0.7359 - val_loss: 0.5747 - val_accuracy: 0.7346 - lr: 0.0010 - 9s/epoch - 13ms/step\n",
            "Epoch 4/100\n",
            "\n",
            "Epoch 4: val_loss did not improve from 0.57209\n",
            "724/724 - 9s - loss: 0.5682 - accuracy: 0.7359 - val_loss: 0.5725 - val_accuracy: 0.7346 - lr: 0.0010 - 9s/epoch - 13ms/step\n",
            "Epoch 5/100\n",
            "\n",
            "Epoch 5: val_loss did not improve from 0.57209\n",
            "724/724 - 9s - loss: 0.5557 - accuracy: 0.7354 - val_loss: 0.5733 - val_accuracy: 0.7346 - lr: 0.0010 - 9s/epoch - 13ms/step\n",
            "Epoch 6/100\n",
            "\n",
            "Epoch 6: val_loss did not improve from 0.57209\n",
            "724/724 - 9s - loss: 0.5420 - accuracy: 0.7379 - val_loss: 0.5770 - val_accuracy: 0.7342 - lr: 0.0010 - 9s/epoch - 13ms/step\n",
            "Epoch 7/100\n",
            "\n",
            "Epoch 7: val_loss did not improve from 0.57209\n",
            "724/724 - 9s - loss: 0.5259 - accuracy: 0.7470 - val_loss: 0.5833 - val_accuracy: 0.7342 - lr: 0.0010 - 9s/epoch - 12ms/step\n",
            "Epoch 8/100\n",
            "\n",
            "Epoch 8: val_loss did not improve from 0.57209\n",
            "724/724 - 9s - loss: 0.4898 - accuracy: 0.7535 - val_loss: 0.6144 - val_accuracy: 0.7372 - lr: 7.5000e-04 - 9s/epoch - 13ms/step\n",
            "Epoch 9/100\n",
            "\n",
            "Epoch 9: val_loss did not improve from 0.57209\n",
            "724/724 - 9s - loss: 0.4478 - accuracy: 0.7801 - val_loss: 0.6589 - val_accuracy: 0.7221 - lr: 7.5000e-04 - 9s/epoch - 13ms/step\n",
            "Epoch 10/100\n",
            "\n",
            "Epoch 10: val_loss did not improve from 0.57209\n",
            "724/724 - 9s - loss: 0.3997 - accuracy: 0.8087 - val_loss: 0.7539 - val_accuracy: 0.7118 - lr: 7.5000e-04 - 9s/epoch - 12ms/step\n",
            "Epoch 11/100\n",
            "\n",
            "Epoch 11: val_loss did not improve from 0.57209\n",
            "724/724 - 10s - loss: 0.3513 - accuracy: 0.8346 - val_loss: 0.7952 - val_accuracy: 0.7018 - lr: 7.5000e-04 - 10s/epoch - 13ms/step\n",
            "Epoch 12/100\n",
            "\n",
            "Epoch 12: val_loss did not improve from 0.57209\n",
            "724/724 - 10s - loss: 0.2988 - accuracy: 0.8654 - val_loss: 0.8573 - val_accuracy: 0.7055 - lr: 7.5000e-04 - 10s/epoch - 13ms/step\n"
          ]
        }
      ]
    },
    {
      "cell_type": "code",
      "source": [
        "# Save the entire model\n",
        "model.save('eligibility_checker.h5')"
      ],
      "metadata": {
        "id": "ijcAjPcgdZJw"
      },
      "execution_count": null,
      "outputs": []
    }
  ],
  "metadata": {
    "accelerator": "GPU",
    "colab": {
      "provenance": [],
      "gpuType": "T4",
      "authorship_tag": "ABX9TyOhfQdFuy3OyO/7W7n/sOm4",
      "include_colab_link": true
    },
    "kernelspec": {
      "display_name": "Python 3",
      "name": "python3"
    },
    "language_info": {
      "name": "python"
    }
  },
  "nbformat": 4,
  "nbformat_minor": 0
}