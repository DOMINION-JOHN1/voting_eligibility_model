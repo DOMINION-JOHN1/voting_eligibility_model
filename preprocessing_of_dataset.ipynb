{
  "nbformat": 4,
  "nbformat_minor": 0,
  "metadata": {
    "colab": {
      "provenance": [],
      "gpuType": "T4",
      "authorship_tag": "ABX9TyNeU6ePd/vVBu85YQ10W3LJ",
      "include_colab_link": true
    },
    "kernelspec": {
      "name": "python3",
      "display_name": "Python 3"
    },
    "language_info": {
      "name": "python"
    },
    "accelerator": "GPU"
  },
  "cells": [
    {
      "cell_type": "markdown",
      "metadata": {
        "id": "view-in-github",
        "colab_type": "text"
      },
      "source": [
        "<a href=\"https://colab.research.google.com/github/DOMINION-JOHN1/voting_eligibility_model/blob/main/preprocessing_of_dataset.ipynb\" target=\"_parent\"><img src=\"https://colab.research.google.com/assets/colab-badge.svg\" alt=\"Open In Colab\"/></a>"
      ]
    },
    {
      "cell_type": "code",
      "execution_count": 1,
      "metadata": {
        "id": "f-XefbczQp_9"
      },
      "outputs": [],
      "source": [
        "import pandas as pd\n",
        "import numpy as np"
      ]
    },
    {
      "cell_type": "code",
      "source": [
        "from google.colab import drive\n",
        "drive.mount('/content/drive',force_remount=True)"
      ],
      "metadata": {
        "colab": {
          "base_uri": "https://localhost:8080/"
        },
        "id": "2q4v5AVpRUSL",
        "outputId": "96dfbfa1-99bc-4e4f-ad90-0657f5ff4c60"
      },
      "execution_count": 2,
      "outputs": [
        {
          "output_type": "stream",
          "name": "stdout",
          "text": [
            "Mounted at /content/drive\n"
          ]
        }
      ]
    },
    {
      "cell_type": "code",
      "source": [
        "# Define the file path of the np.array document\n",
        "file_path = '/content/drive/My Drive/.npy'\n",
        "\n",
        "# Load the np.array document using np.load()\n",
        "loaded_array = np.load(file_path)"
      ],
      "metadata": {
        "id": "EzbPQfGfQvY7"
      },
      "execution_count": 3,
      "outputs": []
    },
    {
      "cell_type": "code",
      "source": [
        "import tensorflow as tf\n",
        "\n",
        "x=loaded_array\n",
        "x.astype('float16')"
      ],
      "metadata": {
        "id": "6YxE7Izmmu3m",
        "colab": {
          "base_uri": "https://localhost:8080/"
        },
        "outputId": "463cdfcc-34db-4659-8379-bfbd874b0904"
      },
      "execution_count": 4,
      "outputs": [
        {
          "output_type": "execute_result",
          "data": {
            "text/plain": [
              "array([[[0.    , 0.    , 0.    , ..., 0.    , 0.    , 0.    ],\n",
              "        [0.    , 0.    , 0.    , ..., 0.    , 0.    , 0.    ],\n",
              "        [0.    , 0.    , 0.    , ..., 0.    , 0.    , 0.    ],\n",
              "        ...,\n",
              "        [0.    , 0.    , 0.    , ..., 0.    , 0.    , 0.    ],\n",
              "        [0.    , 0.    , 0.    , ..., 0.    , 0.    , 0.    ],\n",
              "        [0.    , 0.    , 0.    , ..., 0.    , 0.    , 0.    ]],\n",
              "\n",
              "       [[0.851 , 0.8667, 0.8667, ..., 0.757 , 0.745 , 0.749 ],\n",
              "        [0.859 , 0.863 , 0.851 , ..., 0.749 , 0.753 , 0.7646],\n",
              "        [0.8237, 0.8354, 0.8315, ..., 0.749 , 0.745 , 0.7646],\n",
              "        ...,\n",
              "        [0.1647, 0.1647, 0.153 , ..., 0.569 , 0.5845, 0.569 ],\n",
              "        [0.1686, 0.1765, 0.149 , ..., 0.5767, 0.565 , 0.565 ],\n",
              "        [0.1569, 0.1647, 0.153 , ..., 0.5605, 0.5566, 0.5728]],\n",
              "\n",
              "       [[0.    , 0.    , 0.    , ..., 0.    , 0.    , 0.    ],\n",
              "        [0.    , 0.    , 0.    , ..., 0.    , 0.    , 0.    ],\n",
              "        [0.    , 0.    , 0.    , ..., 0.    , 0.    , 0.    ],\n",
              "        ...,\n",
              "        [0.    , 0.    , 0.    , ..., 0.    , 0.    , 0.    ],\n",
              "        [0.    , 0.    , 0.    , ..., 0.    , 0.    , 0.    ],\n",
              "        [0.    , 0.    , 0.    , ..., 0.    , 0.    , 0.    ]],\n",
              "\n",
              "       ...,\n",
              "\n",
              "       [[0.2313, 0.2118, 0.2666, ..., 0.2744, 0.349 , 0.396 ],\n",
              "        [0.2783, 0.3333, 0.3647, ..., 0.3372, 0.3372, 0.353 ],\n",
              "        [0.3687, 0.357 , 0.3254, ..., 0.3608, 0.2942, 0.298 ],\n",
              "        ...,\n",
              "        [0.1412, 0.1294, 0.1294, ..., 0.3176, 0.3137, 0.3176],\n",
              "        [0.1177, 0.1059, 0.1059, ..., 0.3293, 0.3215, 0.3137],\n",
              "        [0.098 , 0.0941, 0.0941, ..., 0.3176, 0.3254, 0.3176]],\n",
              "\n",
              "       [[0.    , 0.    , 0.    , ..., 0.    , 0.    , 0.    ],\n",
              "        [0.    , 0.    , 0.    , ..., 0.    , 0.    , 0.    ],\n",
              "        [0.    , 0.    , 0.    , ..., 0.    , 0.    , 0.    ],\n",
              "        ...,\n",
              "        [0.    , 0.    , 0.    , ..., 0.    , 0.    , 0.    ],\n",
              "        [0.    , 0.    , 0.    , ..., 0.    , 0.    , 0.    ],\n",
              "        [0.    , 0.    , 0.    , ..., 0.    , 0.    , 0.    ]],\n",
              "\n",
              "       [[0.    , 0.    , 0.    , ..., 0.    , 0.    , 0.    ],\n",
              "        [0.    , 0.    , 0.    , ..., 0.    , 0.    , 0.    ],\n",
              "        [0.    , 0.    , 0.    , ..., 0.    , 0.    , 0.    ],\n",
              "        ...,\n",
              "        [0.    , 0.    , 0.    , ..., 0.    , 0.    , 0.    ],\n",
              "        [0.    , 0.    , 0.    , ..., 0.    , 0.    , 0.    ],\n",
              "        [0.    , 0.    , 0.    , ..., 0.    , 0.    , 0.    ]]],\n",
              "      dtype=float16)"
            ]
          },
          "metadata": {},
          "execution_count": 4
        }
      ]
    },
    {
      "cell_type": "code",
      "source": [
        "\n",
        "file_path = '/content/drive/My Drive/'\n",
        "\n",
        "# Save the numpy array to a .npy file with the name 'feature_data.npy'\n",
        "file_name = 'feature_data.npy'\n",
        "np.save(file_path + file_name, x)\n",
        "\n",
        "print(f\"Numpy array saved to '{file_path}{file_name}'\")\n"
      ],
      "metadata": {
        "colab": {
          "base_uri": "https://localhost:8080/"
        },
        "id": "yFOkdLJOrU6f",
        "outputId": "dbc4bf37-331a-4a99-d68b-2df1a510e991"
      },
      "execution_count": 5,
      "outputs": [
        {
          "output_type": "stream",
          "name": "stdout",
          "text": [
            "Numpy array saved to '/content/drive/My Drive/feature_data.npy'\n"
          ]
        }
      ]
    },
    {
      "cell_type": "code",
      "source": [
        "eligibility=pd.read_csv('/content/drive/My Drive/eligibility.csv')"
      ],
      "metadata": {
        "id": "dMd-kgh3Q5dJ"
      },
      "execution_count": 6,
      "outputs": []
    },
    {
      "cell_type": "code",
      "source": [
        "\n",
        "eligibility['eligibility']=eligibility['eligibility'].replace('55', 'Eligible')\n",
        "eligibility['eligibility']=eligibility['eligibility'].replace('35', 'Eligible')\n",
        "eligibility['eligibility'] = eligibility['eligibility'].replace({'Eligible': 1, 'Not Eligible': 0})\n",
        "target_label = np.array(eligibility['eligibility'])\n",
        "target_label.astype('float16')"
      ],
      "metadata": {
        "id": "O2240padnqtW",
        "colab": {
          "base_uri": "https://localhost:8080/"
        },
        "outputId": "d7a84870-f50a-4d37-c360-294b79f1243b"
      },
      "execution_count": 9,
      "outputs": [
        {
          "output_type": "execute_result",
          "data": {
            "text/plain": [
              "array([1., 1., 1., ..., 1., 1., 1.], dtype=float16)"
            ]
          },
          "metadata": {},
          "execution_count": 9
        }
      ]
    },
    {
      "cell_type": "code",
      "source": [
        "\n",
        "# Save the numpy array to a .npy file with the name 'feature_data.npy'\n",
        "file_name = 'target_data.npy'\n",
        "np.save(file_path + file_name, target_label)\n",
        "\n",
        "print(f\"Numpy array saved to '{file_path}{file_name}'\")"
      ],
      "metadata": {
        "id": "CkOBDbxtMGaM",
        "colab": {
          "base_uri": "https://localhost:8080/"
        },
        "outputId": "4400cf68-b15c-4aa0-cb44-ae9d35a48343"
      },
      "execution_count": 10,
      "outputs": [
        {
          "output_type": "stream",
          "name": "stdout",
          "text": [
            "Numpy array saved to '/content/drive/My Drive/target_data.npy'\n"
          ]
        }
      ]
    },
    {
      "cell_type": "code",
      "source": [],
      "metadata": {
        "id": "rJx9Vu0hvqNk"
      },
      "execution_count": null,
      "outputs": []
    }
  ]
}