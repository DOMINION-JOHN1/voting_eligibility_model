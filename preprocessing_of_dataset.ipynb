{
  "cells": [
    {
      "cell_type": "markdown",
      "metadata": {
        "id": "view-in-github",
        "colab_type": "text"
      },
      "source": [
        "<a href=\"https://colab.research.google.com/github/DOMINION-JOHN1/voting_eligibility_model/blob/main/preprocessing_of_dataset.ipynb\" target=\"_parent\"><img src=\"https://colab.research.google.com/assets/colab-badge.svg\" alt=\"Open In Colab\"/></a>"
      ]
    },
    {
      "cell_type": "code",
      "execution_count": 1,
      "metadata": {
        "id": "f-XefbczQp_9"
      },
      "outputs": [],
      "source": [
        "import pandas as pd\n",
        "import numpy as np"
      ]
    },
    {
      "cell_type": "code",
      "execution_count": 2,
      "metadata": {
        "colab": {
          "base_uri": "https://localhost:8080/"
        },
        "id": "2q4v5AVpRUSL",
        "outputId": "7b56e0b6-e6f1-4b3c-98e9-e49c73fd70e3"
      },
      "outputs": [
        {
          "output_type": "stream",
          "name": "stdout",
          "text": [
            "Mounted at /content/drive\n"
          ]
        }
      ],
      "source": [
        "from google.colab import drive\n",
        "drive.mount('/content/drive',force_remount=True)"
      ]
    },
    {
      "cell_type": "code",
      "execution_count": 3,
      "metadata": {
        "id": "EzbPQfGfQvY7"
      },
      "outputs": [],
      "source": [
        "# Define the file path of the np.array document\n",
        "file_path = '/content/drive/My Drive/.npy'\n",
        "\n",
        "# Load the np.array document using np.load()\n",
        "loaded_array = np.load(file_path)"
      ]
    },
    {
      "cell_type": "code",
      "execution_count": 4,
      "metadata": {
        "id": "6YxE7Izmmu3m"
      },
      "outputs": [],
      "source": [
        "import tensorflow as tf\n",
        "\n",
        "x=loaded_array\n"
      ]
    },
    {
      "cell_type": "code",
      "execution_count": 5,
      "metadata": {
        "id": "dMd-kgh3Q5dJ"
      },
      "outputs": [],
      "source": [
        "eligibility=pd.read_csv('/content/drive/My Drive/eligibility.csv')"
      ]
    },
    {
      "cell_type": "code",
      "execution_count": 6,
      "metadata": {
        "id": "O2240padnqtW"
      },
      "outputs": [],
      "source": [
        "\n",
        "eligibility['eligibility']=eligibility['eligibility'].replace('55', 'Eligible')\n",
        "eligibility['eligibility']=eligibility['eligibility'].replace('35', 'Eligible')\n",
        "eligibility['eligibility'] = eligibility['eligibility'].replace({'Eligible': 1, 'Not Eligible': 0})\n",
        "target_label = np.array(eligibility['eligibility'])\n",
        "target_label.astype('float32')\n",
        "target_label.shape\n",
        "y=target_label"
      ]
    },
    {
      "cell_type": "code",
      "source": [
        "from sklearn.model_selection import train_test_split\n",
        "X_train, X_test, y_train, y_test = train_test_split(x, y, test_size=0.2, random_state=42)\n",
        "\n",
        "# Print the sizes of the train and test sets\n",
        "print(\"Training data size:\", len(X_train))\n",
        "print(\"Testing data size:\", len(X_test))"
      ],
      "metadata": {
        "colab": {
          "base_uri": "https://localhost:8080/"
        },
        "id": "PXzD5wVGdPtE",
        "outputId": "2a13fc99-ae64-4119-bae9-a3d3d7a909dd"
      },
      "execution_count": 7,
      "outputs": [
        {
          "output_type": "stream",
          "name": "stdout",
          "text": [
            "Training data size: 10850\n",
            "Testing data size: 2713\n"
          ]
        }
      ]
    },
    {
      "cell_type": "code",
      "source": [
        "from tensorflow.keras.models import Sequential\n",
        "from tensorflow.keras.layers import Conv2D, Activation, MaxPool2D, Dropout, Flatten, Dense, BatchNormalization\n",
        "from tensorflow.keras.optimizers import Adam\n",
        "\n",
        "model = Sequential()\n",
        "\n",
        "model.add(Conv2D(32, kernel_size=(3, 3), input_shape=(128, 128, 3)))\n",
        "model.add(BatchNormalization())\n",
        "model.add(Activation(\"relu\"))\n",
        "model.add(MaxPool2D(pool_size=(2, 2)))\n",
        "\n",
        "# Convolutional Layer 2\n",
        "model.add(Conv2D(64, kernel_size=(3, 3)))\n",
        "model.add(BatchNormalization())\n",
        "model.add(Activation(\"relu\"))\n",
        "model.add(Conv2D(64, kernel_size=(3, 3)))\n",
        "model.add(BatchNormalization())\n",
        "model.add(Activation(\"relu\"))\n",
        "model.add(MaxPool2D(pool_size=(2, 2)))\n",
        "\n",
        "# Convolutional Layer 3\n",
        "model.add(Conv2D(128, kernel_size=(3, 3)))\n",
        "model.add(BatchNormalization())\n",
        "model.add(Activation(\"relu\"))\n",
        "model.add(Conv2D(128, kernel_size=(3, 3)))\n",
        "model.add(BatchNormalization())\n",
        "model.add(Activation(\"relu\"))\n",
        "model.add(MaxPool2D(pool_size=(2, 2)))\n",
        "\n",
        "# Flatten the feature map\n",
        "model.add(Flatten())\n",
        "\n",
        "# Fully connected layers\n",
        "model.add(Dense(256, activation=\"relu\"))\n",
        "model.add(BatchNormalization())\n",
        "model.add(Dropout(0.5))\n",
        "model.add(Dense(128, activation=\"relu\"))\n",
        "model.add(BatchNormalization())\n",
        "model.add(Dropout(0.5))\n",
        "model.add(Dense(1, activation=\"sigmoid\"))\n",
        "\n",
        "model.compile(loss=\"binary_crossentropy\", optimizer=Adam(lr=0.0001), metrics=[\"accuracy\"])\n",
        "\n",
        "\n",
        "model.summary()\n"
      ],
      "metadata": {
        "colab": {
          "base_uri": "https://localhost:8080/"
        },
        "id": "l-GJ4hHHdQls",
        "outputId": "95af738e-8145-4cae-8e93-008090570903"
      },
      "execution_count": 8,
      "outputs": [
        {
          "output_type": "stream",
          "name": "stderr",
          "text": [
            "WARNING:absl:`lr` is deprecated in Keras optimizer, please use `learning_rate` or use the legacy optimizer, e.g.,tf.keras.optimizers.legacy.Adam.\n"
          ]
        },
        {
          "output_type": "stream",
          "name": "stdout",
          "text": [
            "Model: \"sequential\"\n",
            "_________________________________________________________________\n",
            " Layer (type)                Output Shape              Param #   \n",
            "=================================================================\n",
            " conv2d (Conv2D)             (None, 126, 126, 32)      896       \n",
            "                                                                 \n",
            " batch_normalization (Batch  (None, 126, 126, 32)      128       \n",
            " Normalization)                                                  \n",
            "                                                                 \n",
            " activation (Activation)     (None, 126, 126, 32)      0         \n",
            "                                                                 \n",
            " max_pooling2d (MaxPooling2  (None, 63, 63, 32)        0         \n",
            " D)                                                              \n",
            "                                                                 \n",
            " conv2d_1 (Conv2D)           (None, 61, 61, 64)        18496     \n",
            "                                                                 \n",
            " batch_normalization_1 (Bat  (None, 61, 61, 64)        256       \n",
            " chNormalization)                                                \n",
            "                                                                 \n",
            " activation_1 (Activation)   (None, 61, 61, 64)        0         \n",
            "                                                                 \n",
            " conv2d_2 (Conv2D)           (None, 59, 59, 64)        36928     \n",
            "                                                                 \n",
            " batch_normalization_2 (Bat  (None, 59, 59, 64)        256       \n",
            " chNormalization)                                                \n",
            "                                                                 \n",
            " activation_2 (Activation)   (None, 59, 59, 64)        0         \n",
            "                                                                 \n",
            " max_pooling2d_1 (MaxPoolin  (None, 29, 29, 64)        0         \n",
            " g2D)                                                            \n",
            "                                                                 \n",
            " conv2d_3 (Conv2D)           (None, 27, 27, 128)       73856     \n",
            "                                                                 \n",
            " batch_normalization_3 (Bat  (None, 27, 27, 128)       512       \n",
            " chNormalization)                                                \n",
            "                                                                 \n",
            " activation_3 (Activation)   (None, 27, 27, 128)       0         \n",
            "                                                                 \n",
            " conv2d_4 (Conv2D)           (None, 25, 25, 128)       147584    \n",
            "                                                                 \n",
            " batch_normalization_4 (Bat  (None, 25, 25, 128)       512       \n",
            " chNormalization)                                                \n",
            "                                                                 \n",
            " activation_4 (Activation)   (None, 25, 25, 128)       0         \n",
            "                                                                 \n",
            " max_pooling2d_2 (MaxPoolin  (None, 12, 12, 128)       0         \n",
            " g2D)                                                            \n",
            "                                                                 \n",
            " flatten (Flatten)           (None, 18432)             0         \n",
            "                                                                 \n",
            " dense (Dense)               (None, 256)               4718848   \n",
            "                                                                 \n",
            " batch_normalization_5 (Bat  (None, 256)               1024      \n",
            " chNormalization)                                                \n",
            "                                                                 \n",
            " dropout (Dropout)           (None, 256)               0         \n",
            "                                                                 \n",
            " dense_1 (Dense)             (None, 128)               32896     \n",
            "                                                                 \n",
            " batch_normalization_6 (Bat  (None, 128)               512       \n",
            " chNormalization)                                                \n",
            "                                                                 \n",
            " dropout_1 (Dropout)         (None, 128)               0         \n",
            "                                                                 \n",
            " dense_2 (Dense)             (None, 1)                 129       \n",
            "                                                                 \n",
            "=================================================================\n",
            "Total params: 5032833 (19.20 MB)\n",
            "Trainable params: 5031233 (19.19 MB)\n",
            "Non-trainable params: 1600 (6.25 KB)\n",
            "_________________________________________________________________\n"
          ]
        }
      ]
    },
    {
      "cell_type": "code",
      "source": [
        "from keras.callbacks import ModelCheckpoint, EarlyStopping, ReduceLROnPlateau\n",
        "from keras.preprocessing.image import ImageDataGenerator\n",
        "\n",
        "# Define the file path for saving the best model\n",
        "checkpoint_filepath = '/content/drive/My Drive/best_model.h5'\n",
        "\n",
        "# Create callbacks\n",
        "checkpointer = ModelCheckpoint(filepath=checkpoint_filepath, verbose=1, save_best_only=True)\n",
        "early_stopping = EarlyStopping(monitor='val_loss', patience=10, restore_best_weights=True)\n",
        "reduce_lr = ReduceLROnPlateau(monitor='val_loss', factor=0.75, patience=5, min_lr=1e-6)\n",
        "\n",
        "epochs = 100\n",
        "batch_size = 15\n",
        "\n",
        "\n",
        "# Fit the model with callbacks\n",
        "hist = model.fit(X_train, y_train, batch_size=batch_size,\n",
        "    epochs=epochs,\n",
        "    validation_data=(X_test, y_test),\n",
        "    callbacks=[checkpointer, early_stopping, reduce_lr],\n",
        "    verbose=2\n",
        ")\n"
      ],
      "metadata": {
        "colab": {
          "base_uri": "https://localhost:8080/"
        },
        "id": "JQEbb7JWdUJ1",
        "outputId": "579a2322-1fce-4b3d-c874-e7a62f07c2a0"
      },
      "execution_count": 9,
      "outputs": [
        {
          "output_type": "stream",
          "name": "stdout",
          "text": [
            "Epoch 1/100\n",
            "\n",
            "Epoch 1: val_loss improved from inf to 0.57750, saving model to /content/drive/My Drive/best_model.h5\n"
          ]
        },
        {
          "output_type": "stream",
          "name": "stderr",
          "text": [
            "/usr/local/lib/python3.10/dist-packages/keras/src/engine/training.py:3000: UserWarning: You are saving your model as an HDF5 file via `model.save()`. This file format is considered legacy. We recommend using instead the native Keras format, e.g. `model.save('my_model.keras')`.\n",
            "  saving_api.save_model(\n"
          ]
        },
        {
          "output_type": "stream",
          "name": "stdout",
          "text": [
            "724/724 - 36s - loss: 0.7298 - accuracy: 0.6553 - val_loss: 0.5775 - val_accuracy: 0.7357 - lr: 0.0010 - 36s/epoch - 50ms/step\n",
            "Epoch 2/100\n",
            "\n",
            "Epoch 2: val_loss did not improve from 0.57750\n",
            "724/724 - 17s - loss: 0.6089 - accuracy: 0.7118 - val_loss: 0.5969 - val_accuracy: 0.7346 - lr: 0.0010 - 17s/epoch - 24ms/step\n",
            "Epoch 3/100\n",
            "\n",
            "Epoch 3: val_loss did not improve from 0.57750\n",
            "724/724 - 15s - loss: 0.5874 - accuracy: 0.7312 - val_loss: 0.5789 - val_accuracy: 0.7346 - lr: 0.0010 - 15s/epoch - 21ms/step\n",
            "Epoch 4/100\n",
            "\n",
            "Epoch 4: val_loss improved from 0.57750 to 0.56853, saving model to /content/drive/My Drive/best_model.h5\n",
            "724/724 - 18s - loss: 0.5768 - accuracy: 0.7319 - val_loss: 0.5685 - val_accuracy: 0.7350 - lr: 0.0010 - 18s/epoch - 25ms/step\n",
            "Epoch 5/100\n",
            "\n",
            "Epoch 5: val_loss improved from 0.56853 to 0.56391, saving model to /content/drive/My Drive/best_model.h5\n",
            "724/724 - 17s - loss: 0.5786 - accuracy: 0.7335 - val_loss: 0.5639 - val_accuracy: 0.7342 - lr: 0.0010 - 17s/epoch - 23ms/step\n",
            "Epoch 6/100\n",
            "\n",
            "Epoch 6: val_loss did not improve from 0.56391\n",
            "724/724 - 17s - loss: 0.5728 - accuracy: 0.7353 - val_loss: 0.5853 - val_accuracy: 0.7346 - lr: 0.0010 - 17s/epoch - 23ms/step\n",
            "Epoch 7/100\n",
            "\n",
            "Epoch 7: val_loss did not improve from 0.56391\n",
            "724/724 - 15s - loss: 0.5752 - accuracy: 0.7343 - val_loss: 0.5730 - val_accuracy: 0.7342 - lr: 0.0010 - 15s/epoch - 21ms/step\n",
            "Epoch 8/100\n",
            "\n",
            "Epoch 8: val_loss improved from 0.56391 to 0.56128, saving model to /content/drive/My Drive/best_model.h5\n",
            "724/724 - 17s - loss: 0.5691 - accuracy: 0.7338 - val_loss: 0.5613 - val_accuracy: 0.7361 - lr: 0.0010 - 17s/epoch - 23ms/step\n",
            "Epoch 9/100\n",
            "\n",
            "Epoch 9: val_loss did not improve from 0.56128\n",
            "724/724 - 15s - loss: 0.5651 - accuracy: 0.7338 - val_loss: 0.5967 - val_accuracy: 0.7342 - lr: 0.0010 - 15s/epoch - 21ms/step\n",
            "Epoch 10/100\n",
            "\n",
            "Epoch 10: val_loss improved from 0.56128 to 0.55995, saving model to /content/drive/My Drive/best_model.h5\n",
            "724/724 - 17s - loss: 0.5641 - accuracy: 0.7365 - val_loss: 0.5599 - val_accuracy: 0.7368 - lr: 0.0010 - 17s/epoch - 23ms/step\n",
            "Epoch 11/100\n",
            "\n",
            "Epoch 11: val_loss did not improve from 0.55995\n",
            "724/724 - 16s - loss: 0.5598 - accuracy: 0.7379 - val_loss: 0.5709 - val_accuracy: 0.7372 - lr: 0.0010 - 16s/epoch - 22ms/step\n",
            "Epoch 12/100\n",
            "\n",
            "Epoch 12: val_loss did not improve from 0.55995\n",
            "724/724 - 16s - loss: 0.5578 - accuracy: 0.7407 - val_loss: 0.5764 - val_accuracy: 0.7350 - lr: 0.0010 - 16s/epoch - 22ms/step\n",
            "Epoch 13/100\n",
            "\n",
            "Epoch 13: val_loss improved from 0.55995 to 0.55804, saving model to /content/drive/My Drive/best_model.h5\n",
            "724/724 - 17s - loss: 0.5549 - accuracy: 0.7408 - val_loss: 0.5580 - val_accuracy: 0.7446 - lr: 0.0010 - 17s/epoch - 24ms/step\n",
            "Epoch 14/100\n",
            "\n",
            "Epoch 14: val_loss did not improve from 0.55804\n",
            "724/724 - 15s - loss: 0.5533 - accuracy: 0.7405 - val_loss: 0.5655 - val_accuracy: 0.7306 - lr: 0.0010 - 15s/epoch - 21ms/step\n",
            "Epoch 15/100\n",
            "\n",
            "Epoch 15: val_loss improved from 0.55804 to 0.55332, saving model to /content/drive/My Drive/best_model.h5\n",
            "724/724 - 17s - loss: 0.5455 - accuracy: 0.7441 - val_loss: 0.5533 - val_accuracy: 0.7376 - lr: 0.0010 - 17s/epoch - 23ms/step\n",
            "Epoch 16/100\n",
            "\n",
            "Epoch 16: val_loss did not improve from 0.55332\n",
            "724/724 - 17s - loss: 0.5467 - accuracy: 0.7429 - val_loss: 0.5581 - val_accuracy: 0.7412 - lr: 0.0010 - 17s/epoch - 23ms/step\n",
            "Epoch 17/100\n",
            "\n",
            "Epoch 17: val_loss did not improve from 0.55332\n",
            "724/724 - 15s - loss: 0.5418 - accuracy: 0.7453 - val_loss: 0.5630 - val_accuracy: 0.7427 - lr: 0.0010 - 15s/epoch - 21ms/step\n",
            "Epoch 18/100\n",
            "\n",
            "Epoch 18: val_loss improved from 0.55332 to 0.54833, saving model to /content/drive/My Drive/best_model.h5\n",
            "724/724 - 17s - loss: 0.5401 - accuracy: 0.7422 - val_loss: 0.5483 - val_accuracy: 0.7383 - lr: 0.0010 - 17s/epoch - 23ms/step\n",
            "Epoch 19/100\n",
            "\n",
            "Epoch 19: val_loss did not improve from 0.54833\n",
            "724/724 - 17s - loss: 0.5356 - accuracy: 0.7488 - val_loss: 0.5544 - val_accuracy: 0.7394 - lr: 0.0010 - 17s/epoch - 23ms/step\n",
            "Epoch 20/100\n",
            "\n",
            "Epoch 20: val_loss did not improve from 0.54833\n",
            "724/724 - 16s - loss: 0.5243 - accuracy: 0.7489 - val_loss: 0.5544 - val_accuracy: 0.7424 - lr: 0.0010 - 16s/epoch - 23ms/step\n",
            "Epoch 21/100\n",
            "\n",
            "Epoch 21: val_loss did not improve from 0.54833\n",
            "724/724 - 17s - loss: 0.5234 - accuracy: 0.7524 - val_loss: 0.5490 - val_accuracy: 0.7435 - lr: 0.0010 - 17s/epoch - 23ms/step\n",
            "Epoch 22/100\n",
            "\n",
            "Epoch 22: val_loss did not improve from 0.54833\n",
            "724/724 - 15s - loss: 0.5201 - accuracy: 0.7506 - val_loss: 0.5499 - val_accuracy: 0.7442 - lr: 0.0010 - 15s/epoch - 21ms/step\n",
            "Epoch 23/100\n",
            "\n",
            "Epoch 23: val_loss did not improve from 0.54833\n",
            "724/724 - 15s - loss: 0.5147 - accuracy: 0.7551 - val_loss: 0.5651 - val_accuracy: 0.7424 - lr: 0.0010 - 15s/epoch - 21ms/step\n",
            "Epoch 24/100\n",
            "\n",
            "Epoch 24: val_loss did not improve from 0.54833\n",
            "724/724 - 17s - loss: 0.5007 - accuracy: 0.7620 - val_loss: 0.5701 - val_accuracy: 0.7471 - lr: 7.5000e-04 - 17s/epoch - 23ms/step\n",
            "Epoch 25/100\n",
            "\n",
            "Epoch 25: val_loss did not improve from 0.54833\n",
            "724/724 - 16s - loss: 0.4869 - accuracy: 0.7663 - val_loss: 0.5517 - val_accuracy: 0.7442 - lr: 7.5000e-04 - 16s/epoch - 23ms/step\n",
            "Epoch 26/100\n",
            "\n",
            "Epoch 26: val_loss did not improve from 0.54833\n",
            "724/724 - 15s - loss: 0.4801 - accuracy: 0.7700 - val_loss: 0.5691 - val_accuracy: 0.7468 - lr: 7.5000e-04 - 15s/epoch - 21ms/step\n",
            "Epoch 27/100\n",
            "\n",
            "Epoch 27: val_loss did not improve from 0.54833\n",
            "724/724 - 15s - loss: 0.4667 - accuracy: 0.7796 - val_loss: 0.5761 - val_accuracy: 0.7460 - lr: 7.5000e-04 - 15s/epoch - 21ms/step\n",
            "Epoch 28/100\n",
            "\n",
            "Epoch 28: val_loss did not improve from 0.54833\n",
            "724/724 - 15s - loss: 0.4565 - accuracy: 0.7793 - val_loss: 0.5843 - val_accuracy: 0.7372 - lr: 7.5000e-04 - 15s/epoch - 21ms/step\n"
          ]
        }
      ]
    },
    {
      "cell_type": "code",
      "source": [
        "#"
      ],
      "metadata": {
        "id": "ijcAjPcgdZJw"
      },
      "execution_count": 10,
      "outputs": []
    }
  ],
  "metadata": {
    "accelerator": "GPU",
    "colab": {
      "provenance": [],
      "gpuType": "T4",
      "authorship_tag": "ABX9TyPEdrqyg5igbebWohnSvJ4y",
      "include_colab_link": true
    },
    "kernelspec": {
      "display_name": "Python 3",
      "name": "python3"
    },
    "language_info": {
      "name": "python"
    }
  },
  "nbformat": 4,
  "nbformat_minor": 0
}